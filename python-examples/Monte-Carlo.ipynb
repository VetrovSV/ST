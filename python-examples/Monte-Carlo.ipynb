{
 "cells": [
  {
   "cell_type": "markdown",
   "metadata": {},
   "source": [
    "# Определение надёжности стержня методом Монте-Карло"
   ]
  },
  {
   "cell_type": "code",
   "execution_count": 9,
   "metadata": {},
   "outputs": [],
   "source": [
    "from numpy import random, max\n",
    "import seaborn\n",
    "from matplotlib.pyplot import *\n",
    "\n",
    "from tqdm import tqdm_notebook"
   ]
  },
  {
   "cell_type": "markdown",
   "metadata": {},
   "source": [
    "На стальной стержень действует растягивающая сила со средним значением $\\bar F = 100$ кН. Средний предел текучести стержня $\\bar R_y$ - 230 МПа. Площадь поперечного сечения стержня - 5.36 см2\n",
    "\n",
    "Если известны стандартные отклонения нагрузки F - 10 кН и предела текучести $R_y$ - 10 МПа определить запас несущей способности и вероятность безотказной работы стержня."
   ]
  },
  {
   "cell_type": "code",
   "execution_count": 15,
   "metadata": {},
   "outputs": [],
   "source": [
    "# определим функцию вычисляющую резерв несущей способности\n",
    "\n",
    "def g_func(F, Ry, A):\n",
    "    \"\"\" F:  сила в кН растягивающая стержень\n",
    "    Ry - предел текучести стержня в МПа\n",
    "    A - площадь поперечного сечения стержня в см2\n",
    "    return: резерв несущей способности в кН\n",
    "    \"\"\"\n",
    "    \n",
    "    return Ry*A/10 - F"
   ]
  },
  {
   "cell_type": "code",
   "execution_count": 16,
   "metadata": {},
   "outputs": [
    {
     "data": {
      "text/plain": [
       "23.280000000000015"
      ]
     },
     "execution_count": 16,
     "metadata": {},
     "output_type": "execute_result"
    }
   ],
   "source": [
    "# пример вычисления резерва несущей способности\n",
    "g_func(100, 230, 5.36)"
   ]
  },
  {
   "cell_type": "markdown",
   "metadata": {},
   "source": [
    "## Статистические испытания\n",
    "- проведём N статистических испытаний\n",
    "1. сгенерируем N значений для силы F и предела текучести Ry в соответствии с их распределениями\n",
    "1. для каждой сгенерированной пару значений F и Ry определим резерв несущей способности\n",
    "1. подсчитаем сколько раз из N резерв несущей способности g оказался больше нуля\n",
    "1. определим вероятность неразрушения по формуле $ P = \\frac{M}{N} $, где M - число раз когда g > 0"
   ]
  },
  {
   "cell_type": "code",
   "execution_count": 31,
   "metadata": {},
   "outputs": [
    {
     "data": {
      "application/vnd.jupyter.widget-view+json": {
       "model_id": "fbc20d5fda904a49b000f3fdfc3757c7"
      }
     },
     "metadata": {},
     "output_type": "display_data"
    },
    {
     "name": "stdout",
     "output_type": "stream",
     "text": [
      "\n",
      "Надёжность: 0.97987\n"
     ]
    }
   ],
   "source": [
    "Fav = 100  # кН\n",
    "Ryav = 230  # МПа\n",
    "\n",
    "SF = 10  # кН\n",
    "SRy = 10  # МПа\n",
    "\n",
    "A = 5.36  # см2\n",
    "\n",
    "N = 1000000\n",
    "# счётчик: число успешных испытаний (g>0)\n",
    "M = 0\n",
    "\n",
    "\n",
    "# цикл повторящий статистические испытания\n",
    "# for i in range(N):\n",
    "for i in tqdm_notebook(range(N)):\n",
    "    \n",
    "    # генерирование нормально распределённых случайных величин\n",
    "    # loc - математическое ожидание\n",
    "    # scale - стандартное отклонение\n",
    "    F = random.normal(loc=Fav, scale=SF)\n",
    "    Ry = random.normal(loc=Ryav, scale=SRy)\n",
    "    \n",
    "    g = g_func(F, Ry, A)\n",
    "    \n",
    "    if g > 0:\n",
    "        M = M + 1\n",
    "    \n",
    "# определение надёжности\n",
    "P = M / N\n",
    "\n",
    "print(f\"Надёжность: {P:.5f}\")"
   ]
  },
  {
   "cell_type": "markdown",
   "metadata": {},
   "source": [
    "Код в ячейке выше нужно запустить несколько раз, чтобы убедится в устойчивости ответа. Если от запуска к запуску ответ сильно меняется, то его считаем неустойчивым.\n",
    "\n",
    "Если вероятность каждый раз значительно меняется, то нужно увеличить число испытаний N\n",
    "\n",
    "\n",
    "Для определения N при котором ответ достаточно устойчив можно сделать из верхней ячейки отдельную функцию с параметром N. Далее перебором, постепенно увеличивая N найти определить момент, когда ответ перестаёт сильно изменятся"
   ]
  },
  {
   "cell_type": "code",
   "execution_count": null,
   "metadata": {},
   "outputs": [],
   "source": []
  }
 ],
 "metadata": {
  "kernelspec": {
   "display_name": "Python 3",
   "language": "python",
   "name": "python3"
  },
  "language_info": {
   "codemirror_mode": {
    "name": "ipython",
    "version": 3
   },
   "file_extension": ".py",
   "mimetype": "text/x-python",
   "name": "python",
   "nbconvert_exporter": "python",
   "pygments_lexer": "ipython3",
   "version": "3.6.7"
  }
 },
 "nbformat": 4,
 "nbformat_minor": 2
}
