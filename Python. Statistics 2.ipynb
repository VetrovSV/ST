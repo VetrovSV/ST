{
 "cells": [
  {
   "cell_type": "markdown",
   "metadata": {},
   "source": [
    "# РГР 1. Статиcтическая обработка данных"
   ]
  },
  {
   "cell_type": "code",
   "execution_count": 2,
   "metadata": {
    "collapsed": false
   },
   "outputs": [],
   "source": [
    "# подключение необходимых библиотек\n",
    "import numpy\n",
    "import scipy.stats\n",
    "import seaborn\n",
    "import pandas\n",
    "from matplotlib.pyplot import *\n",
    "\n",
    "%matplotlib inline\n",
    "\n",
    "# настройка вывода вещественых чисел (не использовать запись вида 1.4e01)\n",
    "numpy.set_printoptions(suppress=True)"
   ]
  },
  {
   "cell_type": "code",
   "execution_count": 3,
   "metadata": {
    "collapsed": false
   },
   "outputs": [
    {
     "name": "stdout",
     "output_type": "stream",
     "text": [
      "                X           Y\n",
      "count  100.000000  100.000000\n",
      "mean    15.898900   16.361600\n",
      "std      6.141621    5.743515\n",
      "min     -0.980000    1.240000\n",
      "25%     12.195000   12.560000\n",
      "50%     15.265000   16.140000\n",
      "75%     20.240000   20.130000\n",
      "max     32.270000   28.590000\n",
      "\n",
      "Мода : 15.27\n"
     ]
    }
   ],
   "source": [
    "# загрузим данные из файла\n",
    "# здесь файл расположен в папке task1, которая расположена в той же папке, что и эта программа\n",
    "data = pandas.read_csv(\"task1/V29.csv\")\n",
    "\n",
    "# удалим нулевой столбец, который содержит порядковые номера для пар X и Y (см. файл)\n",
    "del data [data.columns[0]] \n",
    "\n",
    "# краткая информация о данных\n",
    "print(data.describe())\n",
    "\n",
    "# вычислим основные числовые характеристики\n",
    "meanX = numpy.mean(data.X)\n",
    "sdX = numpy.std( data.X , ddof=1)\n",
    "medX = numpy.median(data.X)\n",
    "modeX = scipy.stats.mode(data.X)\n",
    "\n",
    "print()\n",
    "print( \"Мода : {:.2f}\".format(medX))"
   ]
  },
  {
   "cell_type": "markdown",
   "metadata": {},
   "source": [
    "## Гистограммы"
   ]
  },
  {
   "cell_type": "code",
   "execution_count": 4,
   "metadata": {
    "collapsed": false
   },
   "outputs": [
    {
     "data": {
      "image/png": "[encoded data removed]",
      "text/plain": [
       "<matplotlib.figure.Figure at 0x7f0f6046a390>"
      ]
     },
     "metadata": {},
     "output_type": "display_data"
    },
    {
     "data": {
      "text/plain": [
       "<matplotlib.axes._subplots.AxesSubplot at 0x7f0f2b333908>"
      ]
     },
     "execution_count": 4,
     "metadata": {},
     "output_type": "execute_result"
    },
    {
     "data": {
      "image/png": "[encoded data removed]",
      "text/plain": [
       "<matplotlib.figure.Figure at 0x7f0f292dd978>"
      ]
     },
     "metadata": {},
     "output_type": "display_data"
    }
   ],
   "source": [
    "seaborn.distplot(data.X)\n",
    "show()\n",
    "seaborn.distplot(data.Y, color='orange')"
   ]
  },
  {
   "cell_type": "markdown",
   "metadata": {},
   "source": [
    "### Проверка гипотезы о нормальности распределения\n",
    "\n",
    "$H_0$: выборка сделана из нормально распределённой ген. совокупности\n",
    "\n",
    "см. спраку по функции normaltest: help( scipy.stats.normaltest )\n",
    "\n",
    "Проверка осуществляется по p-value\n",
    "\n",
    "\n",
    "\n",
    "Здесь и далее будем использовать уровень значимости $\\alpha=0.05$"
   ]
  },
  {
   "cell_type": "code",
   "execution_count": 5,
   "metadata": {
    "collapsed": false
   },
   "outputs": [
    {
     "name": "stdout",
     "output_type": "stream",
     "text": [
      "Help on function normaltest in module scipy.stats.stats:\n",
      "\n",
      "normaltest(a, axis=0, nan_policy='propagate')\n",
      "    Test whether a sample differs from a normal distribution.\n",
      "    \n",
      "    This function tests the null hypothesis that a sample comes\n",
      "    from a normal distribution.  It is based on D'Agostino and\n",
      "    Pearson's [1]_, [2]_ test that combines skew and kurtosis to\n",
      "    produce an omnibus test of normality.\n",
      "    \n",
      "    \n",
      "    Parameters\n",
      "    ----------\n",
      "    a : array_like\n",
      "        The array containing the sample to be tested.\n",
      "    axis : int or None, optional\n",
      "        Axis along which to compute test. Default is 0. If None,\n",
      "        compute over the whole array `a`.\n",
      "    nan_policy : {'propagate', 'raise', 'omit'}, optional\n",
      "        Defines how to handle when input contains nan. 'propagate' returns nan,\n",
      "        'raise' throws an error, 'omit' performs the calculations ignoring nan\n",
      "        values. Default is 'propagate'.\n",
      "    \n",
      "    Returns\n",
      "    -------\n",
      "    statistic : float or array\n",
      "        ``s^2 + k^2``, where ``s`` is the z-score returned by `skewtest` and\n",
      "        ``k`` is the z-score returned by `kurtosistest`.\n",
      "    pvalue : float or array\n",
      "       A 2-sided chi squared probability for the hypothesis test.\n",
      "    \n",
      "    References\n",
      "    ----------\n",
      "    .. [1] D'Agostino, R. B. (1971), \"An omnibus test of normality for\n",
      "           moderate and large sample size\", Biometrika, 58, 341-348\n",
      "    \n",
      "    .. [2] D'Agostino, R. and Pearson, E. S. (1973), \"Tests for departure from\n",
      "           normality\", Biometrika, 60, 613-622\n",
      "    \n",
      "    Examples\n",
      "    --------\n",
      "    >>> from scipy import stats\n",
      "    >>> pts = 1000\n",
      "    >>> np.random.seed(28041990)\n",
      "    >>> a = np.random.normal(0, 1, size=pts)\n",
      "    >>> b = np.random.normal(2, 1, size=pts)\n",
      "    >>> x = np.concatenate((a, b))\n",
      "    >>> k2, p = stats.normaltest(x)\n",
      "    >>> alpha = 1e-3\n",
      "    >>> print(\"p = {:g}\".format(p))\n",
      "    p = 3.27207e-11\n",
      "    >>> if p < alpha:  # null hypothesis: x comes from a normal distribution\n",
      "    ...     print(\"The null hypothesis can be rejected\")\n",
      "    ... else:\n",
      "    ...     print(\"The null hypothesis cannot be rejected\")\n",
      "    The null hypothesis can be rejected\n",
      "\n"
     ]
    }
   ],
   "source": [
    "help( scipy.stats.normaltest )"
   ]
  },
  {
   "cell_type": "code",
   "execution_count": 6,
   "metadata": {
    "collapsed": false
   },
   "outputs": [
    {
     "data": {
      "text/plain": [
       "NormaltestResult(statistic=0.22671675252876272, pvalue=0.8928306334673161)"
      ]
     },
     "execution_count": 6,
     "metadata": {},
     "output_type": "execute_result"
    }
   ],
   "source": [
    "scipy.stats.normaltest(data.X)"
   ]
  },
  {
   "cell_type": "markdown",
   "metadata": {},
   "source": [
    "**p-value** - вероятность получить такие, или ещё более выраженные результаты не случайно.\n",
    "\n",
    "Т.е. p-value будет означать веростность c которой нулевая гипотеза будет ошибочно отвергнута.\n",
    "\n",
    "https://ru.wikipedia.org/wiki/P-%D0%B7%D0%BD%D0%B0%D1%87%D0%B5%D0%BD%D0%B8%D0%B5\n",
    "\n",
    "https://habrahabr.ru/company/stepic/blog/250527/\n",
    "\n",
    "\n",
    "\n",
    "\n",
    "#### Общее правило при проверке статистических гипотез\n",
    "если p-value < $\\alpha$, то нулевая гипотеза отклоняется"
   ]
  },
  {
   "cell_type": "markdown",
   "metadata": {},
   "source": [
    "### Вычисление доверительных интервалов (confidence interval) для математических ожиданий"
   ]
  },
  {
   "cell_type": "code",
   "execution_count": 7,
   "metadata": {
    "collapsed": false
   },
   "outputs": [
    {
     "data": {
      "text/plain": [
       "(14.68026911157633, 17.11753088842367)"
      ]
     },
     "execution_count": 7,
     "metadata": {},
     "output_type": "execute_result"
    }
   ],
   "source": [
    "# для выборки из X\n",
    "# loc - среденее по выборке\n",
    "# scale - с.к.о по выборке\n",
    "scipy.stats.t.interval(0.95, len(data.X)-1, loc=numpy.mean(data.X), scale=scipy.stats.sem(data.X))"
   ]
  },
  {
   "cell_type": "code",
   "execution_count": 8,
   "metadata": {
    "collapsed": false
   },
   "outputs": [
    {
     "data": {
      "text/plain": [
       "(15.221962113010536, 17.50123788698946)"
      ]
     },
     "execution_count": 8,
     "metadata": {},
     "output_type": "execute_result"
    }
   ],
   "source": [
    "# для выборки из Y\n",
    "scipy.stats.t.interval(0.95, len(data.Y)-1, loc=numpy.mean(data.Y), scale=scipy.stats.sem(data.Y))"
   ]
  },
  {
   "cell_type": "markdown",
   "metadata": {},
   "source": [
    "### Диаграмма boxplot или \"ящик с усами\"\n",
    "\n",
    "По этой диаграмме можно судить от схожести выборок. \n",
    "\n",
    "https://ru.wikipedia.org/wiki/%D0%AF%D1%89%D0%B8%D0%BA_%D1%81_%D1%83%D1%81%D0%B0%D0%BC%D0%B8\n",
    "\n",
    "\n",
    "<img src=\"https://upload.wikimedia.org/wikipedia/commons/3/32/Densityvsbox.png\",width=450, alt=\"картинка с Википедии\">"
   ]
  },
  {
   "cell_type": "code",
   "execution_count": 9,
   "metadata": {
    "collapsed": false
   },
   "outputs": [
    {
     "data": {
      "text/plain": [
       "<seaborn.axisgrid.FacetGrid at 0x7f0f6006b7f0>"
      ]
     },
     "execution_count": 9,
     "metadata": {},
     "output_type": "execute_result"
    },
    {
     "data": {
      "image/png": "[encoded data removed]",
      "text/plain": [
       "<matplotlib.figure.Figure at 0x7f0f6037e1d0>"
      ]
     },
     "metadata": {},
     "output_type": "display_data"
    }
   ],
   "source": [
    "seaborn.factorplot(data=data, kind=\"box\")"
   ]
  },
  {
   "cell_type": "markdown",
   "metadata": {},
   "source": [
    "## Проверка гипотезы о равенстве средних\n",
    "\n",
    "$H_0$: средние равны"
   ]
  },
  {
   "cell_type": "code",
   "execution_count": 10,
   "metadata": {
    "collapsed": false
   },
   "outputs": [
    {
     "name": "stdout",
     "output_type": "stream",
     "text": [
      "Help on function ttest_rel in module scipy.stats.stats:\n",
      "\n",
      "ttest_rel(a, b, axis=0, nan_policy='propagate')\n",
      "    Calculate the T-test on TWO RELATED samples of scores, a and b.\n",
      "    \n",
      "    This is a two-sided test for the null hypothesis that 2 related or\n",
      "    repeated samples have identical average (expected) values.\n",
      "    \n",
      "    Parameters\n",
      "    ----------\n",
      "    a, b : array_like\n",
      "        The arrays must have the same shape.\n",
      "    axis : int or None, optional\n",
      "        Axis along which to compute test. If None, compute over the whole\n",
      "        arrays, `a`, and `b`.\n",
      "    nan_policy : {'propagate', 'raise', 'omit'}, optional\n",
      "        Defines how to handle when input contains nan. 'propagate' returns nan,\n",
      "        'raise' throws an error, 'omit' performs the calculations ignoring nan\n",
      "        values. Default is 'propagate'.\n",
      "    \n",
      "    Returns\n",
      "    -------\n",
      "    statistic : float or array\n",
      "        t-statistic\n",
      "    pvalue : float or array\n",
      "        two-tailed p-value\n",
      "    \n",
      "    Notes\n",
      "    -----\n",
      "    Examples for the use are scores of the same set of student in\n",
      "    different exams, or repeated sampling from the same units. The\n",
      "    test measures whether the average score differs significantly\n",
      "    across samples (e.g. exams). If we observe a large p-value, for\n",
      "    example greater than 0.05 or 0.1 then we cannot reject the null\n",
      "    hypothesis of identical average scores. If the p-value is smaller\n",
      "    than the threshold, e.g. 1%, 5% or 10%, then we reject the null\n",
      "    hypothesis of equal averages. Small p-values are associated with\n",
      "    large t-statistics.\n",
      "    \n",
      "    References\n",
      "    ----------\n",
      "    https://en.wikipedia.org/wiki/T-test#Dependent_t-test_for_paired_samples\n",
      "    \n",
      "    Examples\n",
      "    --------\n",
      "    >>> from scipy import stats\n",
      "    >>> np.random.seed(12345678) # fix random seed to get same numbers\n",
      "    \n",
      "    >>> rvs1 = stats.norm.rvs(loc=5,scale=10,size=500)\n",
      "    >>> rvs2 = (stats.norm.rvs(loc=5,scale=10,size=500) +\n",
      "    ...         stats.norm.rvs(scale=0.2,size=500))\n",
      "    >>> stats.ttest_rel(rvs1,rvs2)\n",
      "    (0.24101764965300962, 0.80964043445811562)\n",
      "    >>> rvs3 = (stats.norm.rvs(loc=8,scale=10,size=500) +\n",
      "    ...         stats.norm.rvs(scale=0.2,size=500))\n",
      "    >>> stats.ttest_rel(rvs1,rvs3)\n",
      "    (-3.9995108708727933, 7.3082402191726459e-005)\n",
      "\n"
     ]
    }
   ],
   "source": [
    "help(scipy.stats.ttest_rel)"
   ]
  },
  {
   "cell_type": "code",
   "execution_count": 11,
   "metadata": {
    "collapsed": false
   },
   "outputs": [
    {
     "data": {
      "text/plain": [
       "Ttest_relResult(statistic=-0.6187492865423821, pvalue=0.5375026578244357)"
      ]
     },
     "execution_count": 11,
     "metadata": {},
     "output_type": "execute_result"
    }
   ],
   "source": [
    "scipy.stats.ttest_rel(data.X, data.Y)"
   ]
  },
  {
   "cell_type": "markdown",
   "metadata": {},
   "source": [
    "## Проверка гипотезы о равенстве выборочного срднего математическому ожиданию генеральной совокупности"
   ]
  },
  {
   "cell_type": "code",
   "execution_count": 12,
   "metadata": {
    "collapsed": false
   },
   "outputs": [
    {
     "data": {
      "text/plain": [
       "Ttest_1sampResult(statistic=0.0, pvalue=1.0)"
      ]
     },
     "execution_count": 12,
     "metadata": {},
     "output_type": "execute_result"
    }
   ],
   "source": [
    "scipy.stats.ttest_1samp(data.X, meanX)"
   ]
  },
  {
   "cell_type": "markdown",
   "metadata": {},
   "source": [
    "## Коэффициент корреляции Пирсона (линейного к.к.)\n",
    "\n",
    "Функция scipy.stats.pearsonr возвращает два числа: коэффициент корреляции и p-value.\n",
    "Поэтому здесь же можно проверить и гипотезу о значимости линейного к.к.\n",
    "\n",
    "$H_0$: линейный к.к. не значим\n",
    "\n",
    "Т.е. корреляция между случанйми величинами получена совершенно случайно"
   ]
  },
  {
   "cell_type": "code",
   "execution_count": 13,
   "metadata": {
    "collapsed": false
   },
   "outputs": [
    {
     "name": "stdout",
     "output_type": "stream",
     "text": [
      "Help on function pearsonr in module scipy.stats.stats:\n",
      "\n",
      "pearsonr(x, y)\n",
      "    Calculate a Pearson correlation coefficient and the p-value for testing\n",
      "    non-correlation.\n",
      "    \n",
      "    The Pearson correlation coefficient measures the linear relationship\n",
      "    between two datasets. Strictly speaking, Pearson's correlation requires\n",
      "    that each dataset be normally distributed, and not necessarily zero-mean.\n",
      "    Like other correlation coefficients, this one varies between -1 and +1\n",
      "    with 0 implying no correlation. Correlations of -1 or +1 imply an exact\n",
      "    linear relationship. Positive correlations imply that as x increases, so\n",
      "    does y. Negative correlations imply that as x increases, y decreases.\n",
      "    \n",
      "    The p-value roughly indicates the probability of an uncorrelated system\n",
      "    producing datasets that have a Pearson correlation at least as extreme\n",
      "    as the one computed from these datasets. The p-values are not entirely\n",
      "    reliable but are probably reasonable for datasets larger than 500 or so.\n",
      "    \n",
      "    Parameters\n",
      "    ----------\n",
      "    x : (N,) array_like\n",
      "        Input\n",
      "    y : (N,) array_like\n",
      "        Input\n",
      "    \n",
      "    Returns\n",
      "    -------\n",
      "    r : float\n",
      "        Pearson's correlation coefficient\n",
      "    p-value : float\n",
      "        2-tailed p-value\n",
      "    \n",
      "    Notes\n",
      "    -----\n",
      "    \n",
      "    The correlation coefficient is calculated as follows:\n",
      "    \n",
      "    .. math::\n",
      "    \n",
      "        r_{pb} = \\frac{\\sum (x - m_x) (y - m_y)\n",
      "                       }{\\sqrt{\\sum (x - m_x)^2 (y - m_y)^2}}\n",
      "    \n",
      "    where :math:`m_x` is the mean of the vector :math:`x` and :math:`m_y` is\n",
      "    the mean of the vector :math:`y`.\n",
      "    \n",
      "    \n",
      "    References\n",
      "    ----------\n",
      "    http://www.statsoft.com/textbook/glosp.html#Pearson%20Correlation\n",
      "    \n",
      "    Examples\n",
      "    --------\n",
      "    >>> from scipy import stats\n",
      "    >>> a = np.array([0, 0, 0, 1, 1, 1, 1])\n",
      "    >>> b = np.arange(7)\n",
      "    >>> stats.pearsonr(a, b)\n",
      "    (0.8660254037844386, 0.011724811003954654)\n",
      "    \n",
      "    >>> stats.pearsonr([1,2,3,4,5], [5,6,7,8,7])\n",
      "    (0.83205029433784372, 0.080509573298498519)\n",
      "\n"
     ]
    }
   ],
   "source": [
    "help( scipy.stats.pearsonr )"
   ]
  },
  {
   "cell_type": "code",
   "execution_count": 14,
   "metadata": {
    "collapsed": false
   },
   "outputs": [
    {
     "data": {
      "text/plain": [
       "(0.20960131387657233, 0.03635185331277084)"
      ]
     },
     "execution_count": 14,
     "metadata": {},
     "output_type": "execute_result"
    }
   ],
   "source": [
    "scipy.stats.pearsonr(data.X, data.Y)"
   ]
  },
  {
   "cell_type": "markdown",
   "metadata": {},
   "source": [
    "## Диаграмма рассеивания с линией регрессии (и гистограммы)"
   ]
  },
  {
   "cell_type": "code",
   "execution_count": 15,
   "metadata": {
    "collapsed": false
   },
   "outputs": [
    {
     "data": {
      "text/plain": [
       "<seaborn.axisgrid.JointGrid at 0x7f0f291b9630>"
      ]
     },
     "execution_count": 15,
     "metadata": {},
     "output_type": "execute_result"
    },
    {
     "data": {
      "image/png": "[encoded data removed]",
      "text/plain": [
       "<matplotlib.figure.Figure at 0x7f0f291b9128>"
      ]
     },
     "metadata": {},
     "output_type": "display_data"
    }
   ],
   "source": [
    "seaborn.jointplot(data.X, data.Y, kind='reg')"
   ]
  },
  {
   "cell_type": "markdown",
   "metadata": {},
   "source": [
    "Для того чтобы компактно представить выборку, пусть и с небольшой потерей точности, построим интервальный вариационный ряд.\n",
    "\n",
    "\n",
    "## Построение вариационного ряда, получение относительных частот \n",
    "\n",
    "\n",
    "Для построения интервального вариационного ряда определи ширину интервалов. Для этого определим число интервалов по эмпирической формуле:\n",
    "$$ n = [ log_2(N) ] $$\n",
    "где N - объём выборки,\n",
    "\n",
    "[ ] - обозночают целую часть числа\n",
    "\n",
    "Тогда ширина интервала:\n",
    "\n",
    "$$ h = \\frac{max(X) - min(X)}{n-1} $$\n",
    "\n",
    "\n",
    "Левую границу первого интервала отодвиним влево на $0.5 h$, чтобы минимальное значение выборки не лежало на границе первого интервала."
   ]
  },
  {
   "cell_type": "code",
   "execution_count": 16,
   "metadata": {
    "collapsed": false
   },
   "outputs": [],
   "source": [
    "# from math import *\n",
    "\n",
    "# # объём выборки (число значений в массиве X)\n",
    "# N = X.size\n",
    "\n",
    "# # число и ширина интервалов\n",
    "# n = 1 + int( log2( N ))\n",
    "# h = (max(X)-min(X)) / (n-1)\n",
    "\n",
    "# print(f\"Ширина интервала {h:.2f}\")\n",
    "\n",
    "# # Определим новые границы интервалов.\n",
    "# min_x = min(X)\n",
    "# max_x = max(X)\n",
    "\n",
    "# print(f\"min X: {min_x:.2f}\")\n",
    "# print(f\"max X: {max_x:.2f}\")\n",
    "\n",
    "# intervals = []\n",
    "# left = min_x - h/2\n",
    "# for i in range(1, n+1):\n",
    "#     intervals += [ (left + h*(i-1), \n",
    "#                     left + h*i) ]\n",
    "\n",
    "    \n",
    "# # преобразуем intervals в двумерный массив\n",
    "# intervals = np.array(intervals)\n",
    "# print(\"Интервалы\")\n",
    "# print(intervals)"
   ]
  }
 ],
 "metadata": {
  "kernelspec": {
   "display_name": "Python 3",
   "language": "python",
   "name": "python3"
  },
  "language_info": {
   "codemirror_mode": {
    "name": "ipython",
    "version": 3
   },
   "file_extension": ".py",
   "mimetype": "text/x-python",
   "name": "python",
   "nbconvert_exporter": "python",
   "pygments_lexer": "ipython3",
   "version": "3.6.3"
  }
 },
 "nbformat": 4,
 "nbformat_minor": 2
}
