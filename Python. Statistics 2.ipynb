{
 "cells": [
  {
   "cell_type": "code",
   "execution_count": 26,
   "metadata": {
    "collapsed": false
   },
   "outputs": [
    {
     "name": "stdout",
     "output_type": "stream",
     "text": [
      "Выборка значений с.в. X\n",
      "[  8.28633873  19.23643783   1.39192081   0.7296823   16.96124299\n",
      "   1.99403443  14.88714071  17.36400678   3.83378176   0.50096676\n",
      "  -5.89100195  -0.38095384  -2.84951406   2.69682505   0.46206001\n",
      "   9.80725639   1.00278656   3.91791673  -2.6109049    1.59833095\n",
      "   3.1088928   -3.2116519   17.70353895   2.32604053  -2.48949346\n",
      "  12.68107116   4.99935479   1.1204014   13.40385998  18.41697284\n",
      "   5.94417891  -1.02832085  -5.82874576  -1.18381388  12.29578732\n",
      "  14.95797216  -1.82069185   6.94851685   7.04100188  -4.38698087\n",
      "   2.03992244   5.48069838  -3.28437912   0.95789346  14.48033033\n",
      "  -3.75828109  -0.25947737   2.0065857   23.28715513 -10.14503022\n",
      "  11.60269189  10.92635385   7.96418955  -8.67913304   5.93709471\n",
      "  -2.19669473  21.50132907   0.62376194   6.83351053  13.63905859\n",
      "   0.70506203   8.48168698   5.00710151   5.86646808  -3.05884374\n",
      "   0.5834004   13.52375281   3.98953128  -5.5130998    9.84820289\n",
      "   4.55165445   2.29161685   9.25141093   8.59000282   3.45071457\n",
      "   3.51043768   9.53772726   3.76395187  -5.0242249    3.29160282\n",
      "  -3.25699031  15.82495717   5.71580024  10.55749829  11.80996393\n",
      "   2.84537353   4.90139274   1.21344541  13.21145938  -0.676738\n",
      "  -1.41906281   8.69263163   4.57876736 -11.63092336   7.30656112\n",
      "   3.57917522   0.13553838   6.45824433   1.91451448  -4.90698954]\n"
     ]
    },
    {
     "data": {
      "text/plain": [
       "<matplotlib.axes._subplots.AxesSubplot at 0x7f4d874042e8>"
      ]
     },
     "execution_count": 26,
     "metadata": {},
     "output_type": "execute_result"
    },
    {
     "data": {
      "image/png": "[encoded data removed]",
      "text/plain": [
       "<matplotlib.figure.Figure at 0x7f4dc5725e48>"
      ]
     },
     "metadata": {},
     "output_type": "display_data"
    }
   ],
   "source": [
    "import numpy as np\n",
    "import scipy.stats\n",
    "import seaborn as sb\n",
    "%matplotlib inline\n",
    "\n",
    "# Для примера сгенерируем тестовые данные\n",
    "# используем нормальное распределение\n",
    "\n",
    "X = scipy.stats.norm.rvs(loc=4, scale=7, size=100)\n",
    "Y = scipy.stats.norm.rvs(loc=4, scale=7, size=100)\n",
    "\n",
    "# настройка вывода вещественых чисел (не использовать запись вида 1.4e01)\n",
    "np.set_printoptions(suppress=True)\n",
    "\n",
    "print(\"Выборка значений с.в. X\")\n",
    "print( X )\n",
    "\n",
    "sb.distplot(X)"
   ]
  },
  {
   "cell_type": "code",
   "execution_count": null,
   "metadata": {
    "collapsed": true
   },
   "outputs": [],
   "source": [
    "# Сохранение данных в файл\n",
    "\n",
    "# модуль с функциями для хранения и сохранения\\загрузки данных\n",
    "import pandas\n",
    "\n",
    "# создать\n",
    "data = pandas.DatFrame('X': X, 'Y':Y)\n"
   ]
  },
  {
   "cell_type": "code",
   "execution_count": null,
   "metadata": {
    "collapsed": true
   },
   "outputs": [],
   "source": []
  },
  {
   "cell_type": "markdown",
   "metadata": {},
   "source": [
    "Для того чтобы компактно представить выборку, пусть и с небольшой потерей точности, построим интервальный вариационный ряд.\n",
    "\n",
    "\n",
    "## Построение вариационного ряда, получение относительных частот \n",
    "\n",
    "\n",
    "Для построения интервального вариационного ряда определи ширину интервалов. Для этого определим число интервалов по эмпирической формуле:\n",
    "$$ n = [ log_2(N) ] $$\n",
    "где N - объём выборки,\n",
    "\n",
    "[ ] - обозночают целую часть числа\n",
    "\n",
    "Тогда ширина интервала:\n",
    "\n",
    "$$ h = \\frac{max(X) - min(X)}{n-1} $$\n",
    "\n",
    "\n",
    "Левую границу первого интервала отодвиним влево на $0.5 h$, чтобы минимальное значение выборки не лежало на границе первого интервала."
   ]
  },
  {
   "cell_type": "code",
   "execution_count": 21,
   "metadata": {
    "collapsed": false
   },
   "outputs": [
    {
     "name": "stdout",
     "output_type": "stream",
     "text": [
      "Среднее: 3.68\n",
      "sd     : 7.98\n",
      "Медиана : 3.59\n",
      "Мода : 3.59\n"
     ]
    }
   ],
   "source": [
    "import numpy as np\n",
    "\n",
    "meanX = np.mean(X)\n",
    "sdX = np.std( X , ddof=1)\n",
    "medX = np.median(X)\n",
    "modeX = scipy.stats.mode(X)\n",
    "\n",
    "print( \"Среднее: {:.2f}\".format(meanX))\n",
    "print( \"sd     : {:.2f}\".format(sdX))\n",
    "print( \"Медиана : {:.2f}\".format(medX))\n",
    "print( \"Мода : {:.2f}\".format(medX))\n"
   ]
  },
  {
   "cell_type": "code",
   "execution_count": null,
   "metadata": {
    "collapsed": false
   },
   "outputs": [],
   "source": []
  },
  {
   "cell_type": "code",
   "execution_count": 8,
   "metadata": {
    "collapsed": false
   },
   "outputs": [
    {
     "name": "stdout",
     "output_type": "stream",
     "text": [
      "Ширина интервала 6.89\n",
      "min X: -15.66\n",
      "max X: 25.66\n",
      "Интервалы\n",
      "[[-19.10263023 -12.2161193 ]\n",
      " [-12.2161193   -5.32960837]\n",
      " [ -5.32960837   1.55690256]\n",
      " [  1.55690256   8.44341349]\n",
      " [  8.44341349  15.32992442]\n",
      " [ 15.32992442  22.21643535]\n",
      " [ 22.21643535  29.10294628]]\n"
     ]
    }
   ],
   "source": [
    "from math import *\n",
    "\n",
    "# объём выборки (число значений в массиве X)\n",
    "N = X.size\n",
    "\n",
    "# число и ширина интервалов\n",
    "n = 1 + int( log2( N ))\n",
    "h = (max(X)-min(X)) / (n-1)\n",
    "\n",
    "print(f\"Ширина интервала {h:.2f}\")\n",
    "\n",
    "# Определим новые границы интервалов.\n",
    "min_x = min(X)\n",
    "max_x = max(X)\n",
    "\n",
    "print(f\"min X: {min_x:.2f}\")\n",
    "print(f\"max X: {max_x:.2f}\")\n",
    "\n",
    "intervals = []\n",
    "left = min_x - h/2\n",
    "for i in range(1, n+1):\n",
    "    intervals += [ (left + h*(i-1), \n",
    "                    left + h*i) ]\n",
    "\n",
    "    \n",
    "# преобразуем intervals в двумерный массив\n",
    "intervals = np.array(intervals)\n",
    "print(\"Интервалы\")\n",
    "print(intervals)"
   ]
  },
  {
   "cell_type": "code",
   "execution_count": 10,
   "metadata": {
    "collapsed": false
   },
   "outputs": [
    {
     "data": {
      "text/plain": [
       "NormaltestResult(statistic=0.5399268634113434, pvalue=0.7634074103333033)"
      ]
     },
     "execution_count": 10,
     "metadata": {},
     "output_type": "execute_result"
    }
   ],
   "source": [
    "# Проверка гипотезу о нормальности распределения\n",
    "\n",
    "scipy.stats.normaltest(X)"
   ]
  },
  {
   "cell_type": "code",
   "execution_count": 27,
   "metadata": {
    "collapsed": false
   },
   "outputs": [
    {
     "data": {
      "text/plain": [
       "<matplotlib.axes._subplots.AxesSubplot at 0x7f4d873f7828>"
      ]
     },
     "execution_count": 27,
     "metadata": {},
     "output_type": "execute_result"
    },
    {
     "data": {
      "image/png": "[encoded data removed]",
      "text/plain": [
       "<matplotlib.figure.Figure at 0x7f4d8743dbe0>"
      ]
     },
     "metadata": {},
     "output_type": "display_data"
    }
   ],
   "source": [
    "sb.boxplot(X)\n",
    "sb.boxplot(Y)"
   ]
  },
  {
   "cell_type": "code",
   "execution_count": 29,
   "metadata": {
    "collapsed": false
   },
   "outputs": [
    {
     "data": {
      "text/plain": [
       "Ttest_relResult(statistic=-0.1013392404351086, pvalue=0.9194861277547928)"
      ]
     },
     "execution_count": 29,
     "metadata": {},
     "output_type": "execute_result"
    }
   ],
   "source": [
    "# Проверка гипотезы о равенстве средних\n",
    "\n",
    "scipy.stats.ttest_rel(X,Y)"
   ]
  },
  {
   "cell_type": "code",
   "execution_count": 33,
   "metadata": {
    "collapsed": false
   },
   "outputs": [
    {
     "data": {
      "text/plain": [
       "Ttest_1sampResult(statistic=1.187405734657519, pvalue=0.23790882883295444)"
      ]
     },
     "execution_count": 33,
     "metadata": {},
     "output_type": "execute_result"
    }
   ],
   "source": [
    "# Проверка гипотезы о равенстве выборочного срднего математическому ожиданию генеральной совокупности\n",
    "\n",
    "scipy.stats.ttest_1samp(X, meanX)"
   ]
  },
  {
   "cell_type": "code",
   "execution_count": 36,
   "metadata": {
    "collapsed": false
   },
   "outputs": [
    {
     "name": "stdout",
     "output_type": "stream",
     "text": [
      "r = {:.2f} -0.12414185220861158\n",
      "p-value = {:.2f} 0.21848097833199637\n"
     ]
    }
   ],
   "source": [
    "# вычисление коэффициента корреляции Пирсона (линейного к.к.)\n",
    "\n",
    "r, p = scipy.stats.pearsonr(X, Y)\n",
    "\n",
    "print(\"r = {:.2f}\",r)\n",
    "print(\"p-value = {:.2f}\",p)"
   ]
  },
  {
   "cell_type": "code",
   "execution_count": 38,
   "metadata": {
    "collapsed": false
   },
   "outputs": [
    {
     "data": {
      "text/plain": [
       "<seaborn.axisgrid.JointGrid at 0x7f4d86d5f710>"
      ]
     },
     "execution_count": 38,
     "metadata": {},
     "output_type": "execute_result"
    },
    {
     "data": {
      "image/png": "[encoded data removed]",
      "text/plain": [
       "<matplotlib.figure.Figure at 0x7f4d86d5f8d0>"
      ]
     },
     "metadata": {},
     "output_type": "display_data"
    }
   ],
   "source": [
    "sb.jointplot(X,Y, kind='reg')"
   ]
  },
  {
   "cell_type": "code",
   "execution_count": null,
   "metadata": {
    "collapsed": true
   },
   "outputs": [],
   "source": []
  }
 ],
 "metadata": {
  "kernelspec": {
   "display_name": "Python 3",
   "language": "python",
   "name": "python3"
  },
  "language_info": {
   "codemirror_mode": {
    "name": "ipython",
    "version": 3
   },
   "file_extension": ".py",
   "mimetype": "text/x-python",
   "name": "python",
   "nbconvert_exporter": "python",
   "pygments_lexer": "ipython3",
   "version": "3.6.3"
  }
 },
 "nbformat": 4,
 "nbformat_minor": 2
}
