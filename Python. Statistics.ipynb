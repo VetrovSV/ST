{
 "cells": [
  {
   "cell_type": "code",
   "execution_count": 3,
   "metadata": {
    "collapsed": false
   },
   "outputs": [
    {
     "name": "stdout",
     "output_type": "stream",
     "text": [
      "mean =  3.0\n",
      "me =  1.0\n",
      "st =  1.4142135623730951\n",
      "q1 =  2.0\n",
      "q2 =  3.0\n",
      "q3 =  4.0\n"
     ]
    }
   ],
   "source": [
    "# вычисление числовых характеристик\n",
    "\n",
    "from scipy import *\n",
    "\n",
    "# вычисление средней\n",
    "m = mean( [1,2,3,4,5] )\n",
    "print(\"mean = \",m)\n",
    "# m = 3\n",
    "\n",
    "\n",
    "# вычисление медианы\n",
    "med = median( [1,1,1,1,5] )\n",
    "print(\"me = \",med)\n",
    "\n",
    "\n",
    "# стандартное отклонение\n",
    "sd = std( [1,2,3,4,5] )\n",
    "print(\"st = \", sd)\n",
    "\n",
    "\n",
    "# квартили\n",
    "q1 = percentile( [1,2,3,4,5], 25 )\n",
    "q2 = percentile( [1,2,3,4,5], 50 )\n",
    "q3 = percentile( [1,2,3,4,5], 75 )\n",
    "print(\"q1 = \",q1)\n",
    "print(\"q2 = \",q2)\n",
    "print(\"q3 = \",q3)"
   ]
  },
  {
   "cell_type": "markdown",
   "metadata": {},
   "source": [
    "# Создание случайных значений\n",
    "\n",
    "Модуль scipy.stats содержит множество подмодулей, \n",
    "каждый из которых предназначен для работы с определённым распределением.\n",
    "\n",
    "### Некоторые подмодули\n",
    "`scipy.stats.uniforn` - равномерное распределение\n",
    "\n",
    "`scipy.stats.norm` - номальное распределение\n",
    "\n",
    "`scipy.stats.t` - распределение Стьюдента (t-распределение)\n",
    "\n",
    "`scipy.stats.poisson` - распределение Пуассона\n",
    "\n",
    "\n",
    "<br>\n",
    "\n",
    "Эти подмодули имеют схожие функции для генерирования случайных значений - `rvs`.\n",
    "\n",
    "Генерирование одного заначения СВ распределённой по стандартному нормальному закону:\n",
    "\n",
    "`scipy.stats.norm.rvs()`\n",
    "\n",
    "<br>\n",
    "\n",
    "Различия в вызове функции rvs для кажого подмодуля - это различия \n",
    "в _параметрах распределений_.\n",
    "\n",
    "Например равномерное распределение (uniform) имеет два параметра\n",
    "определяющие минимальное и максимальное значение СВ.\n",
    "\n",
    "Нормальное распределение имеет тоже два параметра, \n",
    "но это математическое ожидание и стандартное отклонение.\n",
    "\n",
    "\n",
    "<br>\n",
    "### Параметры функции rvs\n",
    "функция rvs имеет три параметра которые и задают параметры распределения\n",
    "эти параметры `loc, shape, scale`\n",
    "\n",
    "какие из этих трёх параметров нужно задавать\n",
    "и какой смысл они имеют напиано в документации к подмодулю\n",
    "\n",
    "<br>\n",
    "параметры указываются так:\n",
    "\n",
    "`scipy.stats.norm.rvs(loc = 12.2)`\n",
    "\n",
    "\n",
    "Для параметра `shape` приводится просто число:\n",
    "\n",
    "`scipy.stats.norm.rvs(5.72)`\n",
    "\n",
    "#### Пример\n",
    "help( scipy.stats.norm )\n",
    "\n",
    ">The location (loc) keyword specifies the mean.\n",
    "\n",
    "> The scale (scale) keyword specifies the standard deviation.\n",
    "\n",
    "\n",
    "loc - это математическое ожидание\n",
    "\n",
    "sсale - стандартное отклонение\n",
    "\n",
    "\n",
    "<br>\n",
    "Отдельным параметром `size` задаётся количество значений СВ которые нужно сгенерировать"
   ]
  },
  {
   "cell_type": "markdown",
   "metadata": {},
   "source": [
    "# Построение гистограмм\n",
    "\n",
    "Для того чтобы построить гистограмму (или любой другой график) используется два модуля\n",
    "\n",
    "`from matplotlib.pyplot import *`\n",
    "`import seaborn as sns`\n",
    "\n",
    "Второй модуль подключен под именем sns.\n",
    "\n",
    "<br>\n",
    "Для создания гистограммы используется функция `distplot` модуля `seaborn`:\n",
    "\n",
    "`sns.distplot(X, kde = False, label = 'подпись')`\n",
    "\n",
    "\n",
    "Функция принимает как минимум один параметр - набор значений случайной величины. Это первый параметр функции. В примере это - Х.\n",
    "\n",
    "`sns.distplot(X)`\n",
    "\n",
    "\n",
    "Автоматически строится и кривуя плотности распределения ($f(x)$). Чтобы её отключится нужжно задать значение параметру `kde = False`\n",
    "\n",
    "\n",
    "<br>\n",
    "\n",
    "Если нужно построить несколько гистограмм на одном графике, то нужно несколько раз вызвать функцию `distplot`\n",
    "\n",
    "Чтобы отличать графику друг от друга используются подписи через параметр `label`\n",
    "\n",
    "Пример:\n",
    "\n",
    "`sns.distplot(X1, label = 'x1')`\n",
    "`sns.distplot(X2, label = 'x2')`\n",
    "\n",
    "\n",
    "Подписи к графикам нужно отдельно \"включить\" вызвав `legend()`\n",
    "\n",
    "<br>\n",
    "Наконец, чтобы показать картинку вызывается функция `show()`"
   ]
  },
  {
   "cell_type": "code",
   "execution_count": 62,
   "metadata": {
    "collapsed": false
   },
   "outputs": [
    {
     "name": "stdout",
     "output_type": "stream",
     "text": [
      "Равномерное распределение\n",
      "mean =  1.1254793490418946\n",
      "std =  58.64449873906502\n"
     ]
    },
    {
     "data": {
      "image/png": "[encoded data removed]",
      "text/plain": [
       "<matplotlib.figure.Figure at 0x7f0375c78668>"
      ]
     },
     "metadata": {},
     "output_type": "display_data"
    }
   ],
   "source": [
    "# генерирование случайных значений\n",
    "import scipy.stats\n",
    "# графики\n",
    "from matplotlib.pyplot import *\n",
    "import seaborn as sns\n",
    "\n",
    "\n",
    "print(\"Равномерное распределение\")\n",
    "# создание случаных значений (равномерное распределение)\n",
    "# от -100 до 100 (-100+200)\n",
    "# 100 - количество\n",
    "Ud = scipy.stats.uniform.rvs(loc=-100, scale=200, size=1000)\n",
    "print(\"mean = \", mean(Ud))\n",
    "print(\"std = \", std(Ud))\n",
    "\n",
    "# гистограмма\n",
    "# kde - kernel density estimate \n",
    "# kde = True  - дополнительно построить кривую плостности\n",
    "sns.distplot(Ud, kde = False)\n",
    "show()\n",
    "\n",
    "# в идеале должна получится ровная гистограмма\n",
    "# однако такое возмодно только в пределе, \n",
    "# когда число значений стремится к безсконечности,\n",
    "# а в примере их всего 1000"
   ]
  },
  {
   "cell_type": "code",
   "execution_count": 63,
   "metadata": {
    "collapsed": false
   },
   "outputs": [
    {
     "name": "stdout",
     "output_type": "stream",
     "text": [
      "Нормальное распределение\n",
      "mean =  3.8520953021333693\n",
      "std =  6.993385543754019\n"
     ]
    },
    {
     "data": {
      "image/png": "[encoded data removed]",
      "text/plain": [
       "<matplotlib.figure.Figure at 0x7f037577a9b0>"
      ]
     },
     "metadata": {},
     "output_type": "display_data"
    }
   ],
   "source": [
    "print(\"Нормальное распределение\")\n",
    "# m=4 - математическое ожидание\n",
    "# sigma=7 - стандартное отклонение\n",
    "Nd = scipy.stats.norm.rvs(loc=4, scale=7, size=1000)\n",
    "\n",
    "Nd2 = scipy.stats.norm.rvs(loc=-2, scale=2, size=1000)\n",
    "print(\"mean = \", mean(Nd))\n",
    "print(\"std = \", std(Nd))\n",
    "# гистограмма\n",
    "sns.distplot(Nd, kde = True, label='mu = 4, std=7')\n",
    "sns.distplot(Nd2, kde = True, label='mu = -2, std=4')\n",
    "legend()\n",
    "show()"
   ]
  },
  {
   "cell_type": "code",
   "execution_count": 64,
   "metadata": {
    "collapsed": false
   },
   "outputs": [
    {
     "name": "stdout",
     "output_type": "stream",
     "text": [
      "Распределение Стьюдента\n",
      "mean =  -0.022041590762490324\n",
      "std =  1.436037522921313\n"
     ]
    },
    {
     "data": {
      "image/png": "[encoded data removed]",
      "text/plain": [
       "<matplotlib.figure.Figure at 0x7f037579f518>"
      ]
     },
     "metadata": {},
     "output_type": "display_data"
    }
   ],
   "source": [
    "print(\"Распределение Стьюдента\")\n",
    "# shape = df - количество степеней свободы\n",
    "Nd =  scipy.stats.t.rvs(4, size=10000)\n",
    "Nd2 = scipy.stats.t.rvs(9999, size=10000)\n",
    "print(\"mean = \", mean(Nd))\n",
    "print(\"std = \", std(Nd))\n",
    "# гистограмма\n",
    "sns.distplot(Nd,  kde = True, label='df=8')\n",
    "sns.distplot(Nd2, kde = True, label='df=9999')\n",
    "legend()\n",
    "show()\n",
    "\n",
    "# чем меньше параметр df тем меньше распределение похоже на нормальное\n",
    "# это хорошо заметно по \"толстым хвостам\""
   ]
  },
  {
   "cell_type": "code",
   "execution_count": 71,
   "metadata": {
    "collapsed": false
   },
   "outputs": [
    {
     "name": "stdout",
     "output_type": "stream",
     "text": [
      "\n",
      "Распределение Пуассона\n",
      "mean =  2.99267\n",
      "std =  1.7315762388933384\n"
     ]
    },
    {
     "data": {
      "image/png": "[encoded data removed]",
      "text/plain": [
       "<matplotlib.figure.Figure at 0x7f0375e8fda0>"
      ]
     },
     "metadata": {},
     "output_type": "display_data"
    }
   ],
   "source": [
    "print()\n",
    "print(\"Распределение Пуассона\")\n",
    "# lambda = 3 - математическое ожидание и дисперсия\n",
    "Pd = scipy.stats.poisson.rvs(3, size=100000)\n",
    "Pd2 = scipy.stats.poisson.rvs(7, size=100000)\n",
    "print(\"mean = \", mean(Pd))\n",
    "print(\"std = \", std(Pd))\n",
    "# гистограмма\n",
    "sns.distplot(Pd, kde = False, label = 'lambda = 3')\n",
    "sns.distplot(Pd2, kde = False, label = 'lambda = 7')\n",
    "legend()\n",
    "show()\n",
    "\n",
    "# математическое ожидание и дисперсия в распределении Пуассона совпадают \n",
    "# M = D\n",
    "# ниже приведено стандартное отклонение - корень квадратный из дисперсии"
   ]
  },
  {
   "cell_type": "code",
   "execution_count": 67,
   "metadata": {
    "collapsed": false
   },
   "outputs": [
    {
     "name": "stdout",
     "output_type": "stream",
     "text": [
      "\n",
      "Экпоненциальное распределение\n",
      "mean =  2.516607271040152\n",
      "std =  2.517190942361712\n"
     ]
    },
    {
     "data": {
      "image/png": "[encoded data removed]",
      "text/plain": [
       "<matplotlib.figure.Figure at 0x7f0375b48358>"
      ]
     },
     "metadata": {},
     "output_type": "display_data"
    }
   ],
   "source": [
    "print()\n",
    "print(\"Экпоненциальное распределение\")\n",
    "# 1/lambda = 2.5 - математическое ожидание\n",
    "Ed = scipy.stats.expon.rvs(scale=2.5, size=100000)\n",
    "print(\"mean = \", mean(Ed))\n",
    "print(\"std = \", std(Ed))\n",
    "# гистограмма\n",
    "sns.distplot(Ed, kde = True)\n",
    "show()\n",
    "\n",
    "# В экпоненциальном распределении совпадают M и std"
   ]
  }
 ],
 "metadata": {
  "kernelspec": {
   "display_name": "Python 3",
   "language": "python",
   "name": "python3"
  },
  "language_info": {
   "codemirror_mode": {
    "name": "ipython",
    "version": 3
   },
   "file_extension": ".py",
   "mimetype": "text/x-python",
   "name": "python",
   "nbconvert_exporter": "python",
   "pygments_lexer": "ipython3",
   "version": "3.6.3"
  }
 },
 "nbformat": 4,
 "nbformat_minor": 2
}
