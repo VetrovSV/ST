{
 "cells": [
  {
   "cell_type": "code",
   "execution_count": 220,
   "metadata": {
    "collapsed": false
   },
   "outputs": [
    {
     "name": "stdout",
     "output_type": "stream",
     "text": [
      "mean =  3.0\n",
      "me =  1.0\n",
      "st =  1.4142135623730951\n",
      "q1 =  2.0\n",
      "q2 =  3.0\n",
      "q3 =  4.0\n"
     ]
    }
   ],
   "source": [
    "from scipy import *\n",
    "\n",
    "\n",
    "# вычисление средней\n",
    "m = mean( [1,2,3,4,5] )\n",
    "print(\"mean = \",m)\n",
    "# m = 3\n",
    "\n",
    "\n",
    "# вычисление медианы\n",
    "med = median( [1,1,1,1,5] )\n",
    "print(\"me = \",med)\n",
    "\n",
    "\n",
    "# стандартное отклонение\n",
    "sd = std( [1,2,3,4,5] )\n",
    "print(\"st = \", sd)\n",
    "\n",
    "\n",
    "# квартили\n",
    "q1 = percentile( [1,2,3,4,5], 25 )\n",
    "q2 = percentile( [1,2,3,4,5], 50 )\n",
    "q3 = percentile( [1,2,3,4,5], 75 )\n",
    "print(\"q1 = \",q1)\n",
    "print(\"q2 = \",q2)\n",
    "print(\"q3 = \",q3)"
   ]
  },
  {
   "cell_type": "code",
   "execution_count": 221,
   "metadata": {
    "collapsed": false
   },
   "outputs": [
    {
     "name": "stdout",
     "output_type": "stream",
     "text": [
      "mean =  -1.8704683538699423\n",
      "std =  56.69049249978125\n"
     ]
    }
   ],
   "source": [
    "import scipy.stats\n",
    "\n",
    "# создание случаных значений (равномерное распределение)\n",
    "# от -100 до 100 (-100+200)\n",
    "# 100 - количество\n",
    "U1 = scipy.stats.uniform.rvs(-100, 200, size=1000)\n",
    "\n",
    "\n",
    "print(\"mean = \", mean(U1))\n",
    "print(\"std = \", std(U1))"
   ]
  },
  {
   "cell_type": "code",
   "execution_count": 228,
   "metadata": {
    "collapsed": false
   },
   "outputs": [
    {
     "data": {
      "image/png": "[encoded data removed]",
      "text/plain": [
       "<matplotlib.figure.Figure at 0x7f31f5e95ef0>"
      ]
     },
     "metadata": {},
     "output_type": "display_data"
    }
   ],
   "source": [
    "# графики\n",
    "from matplotlib.pyplot import *\n",
    "import seaborn as sns\n",
    "\n",
    "# гистограмма\n",
    "sns.distplot(U1, kde = False)\n",
    "show()\n",
    "\n",
    "# в идеале должна получится ровная гистограмма\n",
    "# однако такое возмодно только в пределе, \n",
    "# когда число значений стремится к безсконечности,\n",
    "# а в примере их всего 1000"
   ]
  },
  {
   "cell_type": "code",
   "execution_count": null,
   "metadata": {
    "collapsed": true
   },
   "outputs": [],
   "source": []
  }
 ],
 "metadata": {
  "kernelspec": {
   "display_name": "Python 3",
   "language": "python",
   "name": "python3"
  },
  "language_info": {
   "codemirror_mode": {
    "name": "ipython",
    "version": 3
   },
   "file_extension": ".py",
   "mimetype": "text/x-python",
   "name": "python",
   "nbconvert_exporter": "python",
   "pygments_lexer": "ipython3",
   "version": "3.6.3"
  }
 },
 "nbformat": 4,
 "nbformat_minor": 2
}
